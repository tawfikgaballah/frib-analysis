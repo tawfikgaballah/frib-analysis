{
 "cells": [
  {
   "cell_type": "markdown",
   "metadata": {},
   "source": [
    "# Bayesian Poisson Model for 33Na Decay Histogram\n",
    "This notebook implements a Poisson-based Bayesian model to estimate the parent half-life and neutron emission branching ratios for the decay of 33Na."
   ]
  },
  {
   "cell_type": "code",
   "execution_count": null,
   "metadata": {},
   "outputs": [],
   "source": [
    "# Step 1: Load libraries\n",
    "import pandas as pd\n",
    "import pymc as pm\n",
    "import aesara.tensor as at\n",
    "import numpy as np\n",
    "import matplotlib.pyplot as plt\n",
    "import arviz as az\n",
    "import seaborn as sns"
   ]
  },
  {
   "cell_type": "code",
   "execution_count": null,
   "metadata": {},
   "outputs": [],
   "source": [
    "# Step 2: Load and clean data\n",
    "df = pd.read_csv('hist_33Na_with_error.csv', sep='\t', header=None, names=['x', 'y', 'yerr'])\n",
    "df = df.iloc[1:].copy()\n",
    "df['x'] = pd.to_numeric(df['x'], errors='coerce')\n",
    "df['y'] = pd.to_numeric(df['y'].str.replace(',', ''), errors='coerce')\n",
    "df['yerr'] = pd.to_numeric(df['yerr'].str.replace(',', ''), errors='coerce')\n",
    "df.dropna(inplace=True)\n",
    "\n",
    "# Define background and decay regions\n",
    "background_y = df[df['x'] < 0]['y']\n",
    "bkg_est = np.mean(background_y)\n",
    "decay_df = df[df['x'] >= 0]\n",
    "x = decay_df['x'].values\n",
    "y = decay_df['y'].values"
   ]
  },
  {
   "cell_type": "code",
   "execution_count": null,
   "metadata": {},
   "outputs": [],
   "source": [
    "# Step 3: Define model using Poisson likelihood\n",
    "with pm.Model() as model:\n",
    "    \n",
    "    # Priors\n",
    "    initialActivity = pm.Gamma('initialActivity', alpha=100, beta=0.003, initval=36000, transform=None)\n",
    "    background = pm.Gamma('background', alpha=25, beta=0.003, initval=bkg_est, transform=None)\n",
    "    \n",
    "    parentT = pm.Gamma('parentT', alpha=64, beta=8, initval=8.0, transform=None)\n",
    "    daughT = [6.4, 7.2, 11.4]  # ms, fixed\n",
    "    \n",
    "    theta = pm.Normal('theta', mu=0, sigma=2, shape=3)\n",
    "    nBranch = pm.Deterministic('nBranch', at.nnet.softmax(theta))\n",
    "    \n",
    "    # Build expected counts\n",
    "    lam_parent = at.log(2) / parentT\n",
    "    lam_daugh = [np.log(2) / t for t in daughT]\n",
    "    \n",
    "    mu = (initialActivity * at.exp(-lam_parent * x) +\n",
    "          initialActivity * nBranch[0] * at.exp(-lam_daugh[0] * x) +\n",
    "          initialActivity * nBranch[1] * at.exp(-lam_daugh[1] * x) +\n",
    "          initialActivity * nBranch[2] * at.exp(-lam_daugh[2] * x) +\n",
    "          background)\n",
    "    \n",
    "    y_obs = pm.Poisson('y_obs', mu=mu, observed=y)\n",
    "\n",
    "    # Sample\n",
    "    trace = pm.sample(1000, tune=1000, chains=2, target_accept=0.95)"
   ]
  },
  {
   "cell_type": "code",
   "execution_count": null,
   "metadata": {},
   "outputs": [],
   "source": [
    "# Step 4: Posterior analysis\n",
    "az.plot_trace(trace)\n",
    "az.plot_posterior(trace, var_names=['parentT', 'initialActivity', 'background', 'nBranch'])\n",
    "plt.show()"
   ]
  }
 ],
 "metadata": {
  "kernelspec": {
   "display_name": "venv",
   "language": "python",
   "name": "python3"
  },
  "language_info": {
   "name": "python",
   "version": "3.7.8"
  }
 },
 "nbformat": 4,
 "nbformat_minor": 5
}
